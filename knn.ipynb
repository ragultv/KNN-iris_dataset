{
  "nbformat": 4,
  "nbformat_minor": 0,
  "metadata": {
    "colab": {
      "provenance": [],
      "authorship_tag": "ABX9TyOK+jskChnMOuFXNDO9Z3ZC",
      "include_colab_link": true
    },
    "kernelspec": {
      "name": "python3",
      "display_name": "Python 3"
    },
    "language_info": {
      "name": "python"
    }
  },
  "cells": [
    {
      "cell_type": "markdown",
      "metadata": {
        "id": "view-in-github",
        "colab_type": "text"
      },
      "source": [
        "<a href=\"https://colab.research.google.com/github/ragultv/KNN-iris_dataset/blob/main/knn.ipynb\" target=\"_parent\"><img src=\"https://colab.research.google.com/assets/colab-badge.svg\" alt=\"Open In Colab\"/></a>"
      ]
    },
    {
      "cell_type": "code",
      "execution_count": null,
      "metadata": {
        "colab": {
          "base_uri": "https://localhost:8080/"
        },
        "id": "6ZTGupdvfkZz",
        "outputId": "a6fb5b2e-eb59-468f-ffa2-40bd86520384"
      },
      "outputs": [
        {
          "output_type": "stream",
          "name": "stdout",
          "text": [
            "\n",
            "Correct predictions:\n",
            "Input: [6.4 2.9 4.3 1.3], True Label: Iris-versicolor, Predicted Label: Iris-versicolor\n",
            "Input: [5.1 3.8 1.5 0.3], True Label: Iris-setosa, Predicted Label: Iris-setosa\n",
            "Input: [7.7 2.6 6.9 2.3], True Label: Iris-virginica, Predicted Label: Iris-virginica\n",
            "Input: [5.7 2.6 3.5 1. ], True Label: Iris-versicolor, Predicted Label: Iris-versicolor\n",
            "Input: [6.7 3.  5.  1.7], True Label: Iris-versicolor, Predicted Label: Iris-versicolor\n",
            "Input: [5.2 4.1 1.5 0.1], True Label: Iris-setosa, Predicted Label: Iris-setosa\n",
            "Input: [6.7 3.1 4.4 1.4], True Label: Iris-versicolor, Predicted Label: Iris-versicolor\n",
            "Input: [6.9 3.1 5.1 2.3], True Label: Iris-virginica, Predicted Label: Iris-virginica\n",
            "Input: [5.6 2.5 3.9 1.1], True Label: Iris-versicolor, Predicted Label: Iris-versicolor\n",
            "Input: [6.5 3.2 5.1 2. ], True Label: Iris-virginica, Predicted Label: Iris-virginica\n",
            "Input: [4.3 3.  1.1 0.1], True Label: Iris-setosa, Predicted Label: Iris-setosa\n",
            "Input: [4.9 3.1 1.5 0.1], True Label: Iris-setosa, Predicted Label: Iris-setosa\n",
            "Input: [5.4 3.7 1.5 0.2], True Label: Iris-setosa, Predicted Label: Iris-setosa\n",
            "Input: [5.4 3.4 1.7 0.2], True Label: Iris-setosa, Predicted Label: Iris-setosa\n",
            "Input: [4.9 2.4 3.3 1. ], True Label: Iris-versicolor, Predicted Label: Iris-versicolor\n",
            "Input: [6.4 3.1 5.5 1.8], True Label: Iris-virginica, Predicted Label: Iris-virginica\n",
            "Input: [6.3 3.3 4.7 1.6], True Label: Iris-versicolor, Predicted Label: Iris-versicolor\n",
            "Input: [6.4 2.8 5.6 2.2], True Label: Iris-virginica, Predicted Label: Iris-virginica\n",
            "Input: [4.8 3.1 1.6 0.2], True Label: Iris-setosa, Predicted Label: Iris-setosa\n",
            "Input: [6.7 3.3 5.7 2.1], True Label: Iris-virginica, Predicted Label: Iris-virginica\n",
            "Input: [5.2 3.5 1.5 0.2], True Label: Iris-setosa, Predicted Label: Iris-setosa\n",
            "Input: [6.4 2.8 5.6 2.1], True Label: Iris-virginica, Predicted Label: Iris-virginica\n",
            "Input: [7.2 3.  5.8 1.6], True Label: Iris-virginica, Predicted Label: Iris-virginica\n",
            "Input: [6.7 3.  5.2 2.3], True Label: Iris-virginica, Predicted Label: Iris-virginica\n",
            "Input: [6.4 2.7 5.3 1.9], True Label: Iris-virginica, Predicted Label: Iris-virginica\n",
            "Input: [7.1 3.  5.9 2.1], True Label: Iris-virginica, Predicted Label: Iris-virginica\n",
            "Input: [5.1 3.8 1.6 0.2], True Label: Iris-setosa, Predicted Label: Iris-setosa\n",
            "Input: [5.4 3.4 1.5 0.4], True Label: Iris-setosa, Predicted Label: Iris-setosa\n",
            "\n",
            "Wrong predictions:\n",
            "Input: [6.  2.7 5.1 1.6], True Label: Iris-versicolor, Predicted Label: Iris-virginica\n",
            "Input: [5.9 3.2 4.8 1.8], True Label: Iris-versicolor, Predicted Label: Iris-virginica\n",
            "\n",
            "Accuracy: 93.33%\n",
            "\n",
            "Confusion Matrix:\n",
            "[[10  0  0]\n",
            " [ 0  7  2]\n",
            " [ 0  0 11]]\n"
          ]
        }
      ],
      "source": [
        "import pandas as pd\n",
        "import numpy as np\n",
        "from sklearn.model_selection import train_test_split\n",
        "from sklearn.neighbors import KNeighborsClassifier\n",
        "from sklearn.metrics import accuracy_score, confusion_matrix\n",
        "\n",
        "iris_df = pd.read_csv('8-dataset.csv')\n",
        "\n",
        "X = iris_df.iloc[:, :-1].values\n",
        "y = iris_df.iloc[:, -1].values\n",
        "\n",
        "X_train, X_test, y_train, y_test = train_test_split(X, y, test_size=0.2, random_state=42)\n",
        "k=3\n",
        "knn = KNeighborsClassifier(n_neighbors=k)\n",
        "knn.fit(X_train, y_train)\n",
        "\n",
        "y_pred = knn.predict(X_test)\n",
        "\n",
        "correct_predictions = []\n",
        "wrong_predictions = []\n",
        "\n",
        "for i in range(len(y_test)):\n",
        "    if y_test[i] == y_pred[i]:\n",
        "        correct_predictions.append((X_test[i], y_test[i], y_pred[i]))\n",
        "    else:\n",
        "        wrong_predictions.append((X_test[i], y_test[i], y_pred[i]))\n",
        "\n",
        "print(\"\\nCorrect predictions:\")\n",
        "for data in correct_predictions:\n",
        "    print(f\"Input: {data[0]}, True Label: {data[1]}, Predicted Label: {data[2]}\")\n",
        "\n",
        "if wrong_predictions:\n",
        "    print(\"\\nWrong predictions:\")\n",
        "    for data in wrong_predictions:\n",
        "        print(f\"Input: {data[0]}, True Label: {data[1]}, Predicted Label: {data[2]}\")\n",
        "else:\n",
        "    print(\"\\nNo wrong predictions\")\n",
        "\n",
        "accuracy = accuracy_score(y_test, y_pred)\n",
        "print(f\"\\nAccuracy: {accuracy * 100:.2f}%\")\n",
        "\n",
        "conf_matrix = confusion_matrix(y_test, y_pred)\n",
        "print(\"\\nConfusion Matrix:\")\n",
        "print(conf_matrix)\n"
      ]
    }
  ]
}